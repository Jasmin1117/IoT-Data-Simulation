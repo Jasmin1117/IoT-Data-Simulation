{
 "cells": [
  {
   "cell_type": "markdown",
   "id": "8c30c8e4",
   "metadata": {},
   "source": [
    "# Week 4: Milestone 1 – Smart Tracking System Blockchain Ledger (Draft)\n",
    "\n",
    "Follow these steps to verify Python↔Ganache↔Smart Contract connection."
   ]
  },
  {
   "cell_type": "markdown",
   "id": "fc5843d7",
   "metadata": {},
   "source": [
    "1. Setup and Connection"
   ]
  },
  {
   "cell_type": "markdown",
   "id": "ad1f860f",
   "metadata": {},
   "source": [
    "1. **Open Jupyter Notebook**  \n",
    "2. **Verify Ganache** is running (Desktop App “Quickstart Ethereum” or `ganache-cli`).  \n",
    "3. **Check RPC port** (default is `7545` in Ganache Desktop).\n",
    "\n",
    "Below we’ll connect Python → Ganache → our IoTDataStorage contract."
   ]
  },
  {
   "cell_type": "code",
   "execution_count": 28,
   "id": "fef8ead9",
   "metadata": {},
   "outputs": [
    {
     "name": "stdout",
     "output_type": "stream",
     "text": [
      "✅ Connected to Ganache successfully!\n"
     ]
    }
   ],
   "source": [
    "# Cell 1: imports & connection\n",
    "from web3 import Web3\n",
    "import json, os\n",
    "\n",
    "# 1️⃣ Point to your Ganache RPC (update port if needed)\n",
    "ganache_url = \"http://127.0.0.1:7545\"\n",
    "web3 = Web3(Web3.HTTPProvider(ganache_url))\n",
    "\n",
    "# 2️⃣ Test connection\n",
    "if web3.is_connected():\n",
    "    print(\"✅ Connected to Ganache successfully!\")\n",
    "else:\n",
    "    print(\"❌ Connection failed. Ensure Ganache is running.\")"
   ]
  },
  {
   "cell_type": "markdown",
   "id": "0dc81955",
   "metadata": {},
   "source": [
    "2. Load Contract ABI and Address\n",
    "\n",
    "🔗 Now we load the **ABI** exported (in `/artifacts/IoTDataStorageABI.json`) and the **deployed address** from Remix."
   ]
  },
  {
   "cell_type": "code",
   "execution_count": 29,
   "id": "19897053",
   "metadata": {},
   "outputs": [
    {
     "name": "stdout",
     "output_type": "stream",
     "text": [
      "▶️ Using account 0x52F44946840D06E788D2785B3FfEbDf36AacA355\n",
      "✅ Loaded contract at 0xF4B97C9C61c2EcEb30780c5750EB95694A703B88\n"
     ]
    }
   ],
   "source": [
    "# Cell 2: load ABI + contract\n",
    "abi_path = os.path.join(\"..\", \"artifacts\", \"IoTDataStorageABI.json\")\n",
    "with open(abi_path) as f:\n",
    "    abi = json.load(f)\n",
    "\n",
    "# Replace with actual deployed address\n",
    "contract_address = \"0xF4B97C9C61c2EcEb30780c5750EB95694A703B88\"\n",
    "\n",
    "contract = web3.eth.contract(address=contract_address, abi=abi)\n",
    "\n",
    "# Use the Ganache account that has a balance\n",
    "web3.eth.default_account = web3.eth.accounts[1]\n",
    "\n",
    "print(f\"▶️ Using account {web3.eth.default_account}\")\n",
    "print(f\"✅ Loaded contract at {contract_address}\")"
   ]
  },
  {
   "cell_type": "markdown",
   "id": "f4ec64b4",
   "metadata": {},
   "source": [
    "3. Read-Only Call: getTotalRecords()\n",
    "\n",
    "Let’s check that our contract is responding:"
   ]
  },
  {
   "cell_type": "code",
   "execution_count": 34,
   "id": "0bab4702",
   "metadata": {},
   "outputs": [
    {
     "name": "stdout",
     "output_type": "stream",
     "text": [
      "🔢 Total stored entries on‐chain: 1\n"
     ]
    }
   ],
   "source": [
    "# Cell 3: read-only call\n",
    "total = contract.functions.getTotalRecords().call()\n",
    "print(f\"🔢 Total stored entries on‐chain: {total}\")"
   ]
  },
  {
   "cell_type": "markdown",
   "id": "66d9a11f",
   "metadata": {},
   "source": [
    "4. Write a dummy entry\n",
    "\n",
    "Store one dummy IoT record (TEST001) to prove transactions work."
   ]
  },
  {
   "cell_type": "code",
   "execution_count": 31,
   "id": "8c33957b",
   "metadata": {},
   "outputs": [
    {
     "name": "stdout",
     "output_type": "stream",
     "text": [
      "✅ Dummy data tx mined: 584bc5bf568a9df5e419668cf65269aebf302b988397da7d922ed254d6dbe499\n"
     ]
    }
   ],
   "source": [
    "# Cell 4: store dummy entry\n",
    "tx = contract.functions.storeData(\n",
    "    \"TEST001\",      # dummy ID\n",
    "    \"Temperature\", \n",
    "    \"22.5°C\"\n",
    ").transact({\n",
    "    \"from\": web3.eth.default_account,\n",
    "    \"gas\": 200_000,\n",
    "    \"gasPrice\": web3.to_wei(\"1\", \"gwei\")\n",
    "})\n",
    "\n",
    "receipt = web3.eth.wait_for_transaction_receipt(tx)\n",
    "print(\"✅ Dummy data tx mined:\", receipt.transactionHash.hex())"
   ]
  },
  {
   "cell_type": "markdown",
   "id": "098b1d7a",
   "metadata": {},
   "source": [
    "5. Verify it went through\n",
    "\n",
    "After mining, call again to see the updated count and fetch the index."
   ]
  },
  {
   "cell_type": "code",
   "execution_count": 33,
   "id": "90a4d6dc",
   "metadata": {},
   "outputs": [
    {
     "name": "stdout",
     "output_type": "stream",
     "text": [
      "🔢 New total entries: 1\n",
      "📦 First stored record: [1748075473, 'TEST001', 'Temperature', '22.5°C']\n"
     ]
    }
   ],
   "source": [
    "# Cell 5: verify storage\n",
    "new_total = contract.functions.getTotalRecords().call()\n",
    "print(f\"🔢 New total entries: {new_total}\")\n",
    "\n",
    "first = contract.functions.getRecord(0).call()\n",
    "print(\"📦 First stored record:\", first)"
   ]
  }
 ],
 "metadata": {
  "kernelspec": {
   "display_name": "Python 3",
   "language": "python",
   "name": "python3"
  },
  "language_info": {
   "codemirror_mode": {
    "name": "ipython",
    "version": 3
   },
   "file_extension": ".py",
   "mimetype": "text/x-python",
   "name": "python",
   "nbconvert_exporter": "python",
   "pygments_lexer": "ipython3",
   "version": "3.13.1"
  }
 },
 "nbformat": 4,
 "nbformat_minor": 5
}
